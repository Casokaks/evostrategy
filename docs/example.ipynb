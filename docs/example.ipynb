{
 "cells": [
  {
   "cell_type": "markdown",
   "metadata": {},
   "source": [
    "## Example notebook using evostrategy package"
   ]
  },
  {
   "cell_type": "code",
   "execution_count": null,
   "metadata": {},
   "outputs": [],
   "source": [
    "# imports\n",
    "import sys\n",
    "import numpy as np\n",
    "from importlib import reload\n",
    "from evostrategy import evostrategy as es"
   ]
  },
  {
   "cell_type": "code",
   "execution_count": null,
   "metadata": {},
   "outputs": [],
   "source": [
    "# config data\n",
    "returns = np.array([1, -0.4, 0.1, 0.4, 0.1, -0.2, 0.9, 0.33, -0.005, 0.3])\n",
    "weights = [0.1,0.1,0.1,0.1,0.1,0.1,0.1,0.1,0.1,0.1,]\n",
    "weight_bounds = [(0.00,1.00)]*len(returns)"
   ]
  },
  {
   "cell_type": "code",
   "execution_count": null,
   "metadata": {
    "scrolled": true
   },
   "outputs": [],
   "source": [
    "# run evolution strategy\n",
    "\n",
    "def get_reward(weights, minimization=False):\n",
    "    ''' maximization function '''\n",
    "    global returns, weight_bounds\n",
    "    reward = np.nansum(returns*weights)\n",
    "    sum_penalty = np.abs(np.nansum(np.abs(weights))-1)\n",
    "    low_excesses = [weight_bounds[i][0]-min(weights[i],weight_bounds[i][0]) for i in range(len(weights))]\n",
    "    low_excess = np.nansum(np.abs(low_excesses))\n",
    "    up_excesses = [max(weights[i],weight_bounds[i][1])-weight_bounds[i][1] for i in range(len(weights))]\n",
    "    up_excess = np.nansum(np.abs(up_excesses))\n",
    "    reward = reward -sum_penalty -up_excess -low_excess\n",
    "    if minimization==True: reward = -reward\n",
    "    return reward \n",
    "\n",
    "reload(evostrat)\n",
    "es = evostrat.EvolutionStrategy(init_solution=weights, solution_bounds=weight_bounds, get_reward_func=get_reward, \n",
    "                                minimization=False, population_size=200, keep_top=20, no_iterations=5000, \n",
    "                                early_stop=500, round_digs=2, init_std=1, learning_rate=0.1, decay=0.995, \n",
    "                                num_threads=1, seed=8888)\n",
    "es.run()\n"
   ]
  },
  {
   "cell_type": "code",
   "execution_count": null,
   "metadata": {},
   "outputs": [],
   "source": [
    "# explore results\n",
    "es.top_solutions[0]"
   ]
  }
 ],
 "metadata": {
  "environment": {
   "name": "common-cpu.m76",
   "type": "gcloud",
   "uri": "gcr.io/deeplearning-platform-release/base-cpu:m76"
  },
  "kernelspec": {
   "display_name": "Python 3",
   "language": "python",
   "name": "python3"
  },
  "language_info": {
   "codemirror_mode": {
    "name": "ipython",
    "version": 3
   },
   "file_extension": ".py",
   "mimetype": "text/x-python",
   "name": "python",
   "nbconvert_exporter": "python",
   "pygments_lexer": "ipython3",
   "version": "3.7.10"
  }
 },
 "nbformat": 4,
 "nbformat_minor": 4
}
